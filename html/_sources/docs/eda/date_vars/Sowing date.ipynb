{
 "cells": [
  {
   "cell_type": "markdown",
   "metadata": {},
   "source": [
    "(Sowing date)= \n",
    "\n",
    "# Sowing date\n",
    "Tipo da variável: date\n",
    "## Relatório geral\n",
    "\n",
    "<pre>\n",
    "+--------------+---------------------+\n",
    "|              | Values              |\n",
    "+==============+=====================+\n",
    "| Count        | 4559                |\n",
    "+--------------+---------------------+\n",
    "| Unique Month | 41                  |\n",
    "+--------------+---------------------+\n",
    "| Unique Year  | 7                   |\n",
    "+--------------+---------------------+\n",
    "| First Date   | 2014-04-02 00:00:00 |\n",
    "+--------------+---------------------+\n",
    "| Last Date    | 2020-10-31 00:00:00 |\n",
    "+--------------+---------------------+\n",
    "| Range        | 2404 days 00:00:00  |\n",
    "+--------------+---------------------+\n",
    "| Na's         | 40                  |\n",
    "+--------------+---------------------+\n",
    "| Period       |                     |\n",
    "+--------------+---------------------+\n",
    "</pre>"
   ]
  }
 ],
 "metadata": {
  "jupytext": {
   "text_representation": {
    "extension": ".md",
    "format_name": "myst"
   }
  },
  "kernelspec": {
   "display_name": "Python 3",
   "language": "python",
   "name": "python3"
  },
  "language_info": {
   "codemirror_mode": {
    "name": "ipython",
    "version": 3
   },
   "file_extension": ".py",
   "mimetype": "text/x-python",
   "name": "python",
   "nbconvert_exporter": "python",
   "pygments_lexer": "ipython3",
   "version": "3.8.5"
  },
  "source_map": [
   10
  ]
 },
 "nbformat": 4,
 "nbformat_minor": 4
}