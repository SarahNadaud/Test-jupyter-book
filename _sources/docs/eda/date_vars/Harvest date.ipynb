{
 "cells": [
  {
   "cell_type": "markdown",
   "metadata": {},
   "source": [
    "(Harvest date)= \n",
    "\n",
    "# Harvest date\n",
    "Tipo da variável: date\n",
    "## Relatório geral\n",
    "\n",
    "<pre>\n",
    "+--------------+---------------------+\n",
    "|              | Values              |\n",
    "+==============+=====================+\n",
    "| Count        | 4559                |\n",
    "+--------------+---------------------+\n",
    "| Unique Month | 31                  |\n",
    "+--------------+---------------------+\n",
    "| Unique Year  | 7                   |\n",
    "+--------------+---------------------+\n",
    "| First Date   | 2014-08-07 00:00:00 |\n",
    "+--------------+---------------------+\n",
    "| Last Date    | 2020-11-16 00:00:00 |\n",
    "+--------------+---------------------+\n",
    "| Range        | 2293 days 00:00:00  |\n",
    "+--------------+---------------------+\n",
    "| Na's         | 1553                |\n",
    "+--------------+---------------------+\n",
    "| Period       |                     |\n",
    "+--------------+---------------------+\n",
    "</pre>"
   ]
  }
 ],
 "metadata": {
  "jupytext": {
   "text_representation": {
    "extension": ".md",
    "format_name": "myst"
   }
  },
  "kernelspec": {
   "display_name": "Python 3",
   "language": "python",
   "name": "python3"
  },
  "language_info": {
   "codemirror_mode": {
    "name": "ipython",
    "version": 3
   },
   "file_extension": ".py",
   "mimetype": "text/x-python",
   "name": "python",
   "nbconvert_exporter": "python",
   "pygments_lexer": "ipython3",
   "version": "3.8.5"
  },
  "source_map": [
   10
  ]
 },
 "nbformat": 4,
 "nbformat_minor": 4
}