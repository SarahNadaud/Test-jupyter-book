{
 "cells": [
  {
   "cell_type": "markdown",
   "metadata": {},
   "source": [
    "(category_variables)= \n",
    "\n",
    "# Variáveis Categóricas\n",
    "## Relatório geral\n",
    "\n",
    "<pre>\n",
    "+----+------------------------------------------+-----------------------+-----------------------------+\n",
    "|    | Nome Feature                             |   Qtde Missing Values |   Proportion Missing Values |\n",
    "+====+==========================================+=======================+=============================+\n",
    "| 53 | Crop stage max growth regulators applied |                  4558 |                       99.98 |\n",
    "+----+------------------------------------------+-----------------------+-----------------------------+\n",
    "| 50 | Crop stage max insecticide applied       |                  4143 |                       90.88 |\n",
    "+----+------------------------------------------+-----------------------+-----------------------------+\n",
    "| 47 | Crop stage max fungicide applied         |                  2600 |                       57.03 |\n",
    "+----+------------------------------------------+-----------------------+-----------------------------+\n",
    "| 44 | Crop stage max herbicide applied         |                  2384 |                       52.29 |\n",
    "+----+------------------------------------------+-----------------------+-----------------------------+\n",
    "| 43 | Crop stage max fert applied after sowing |                  2382 |                       52.25 |\n",
    "+----+------------------------------------------+-----------------------+-----------------------------+\n",
    "| 42 | Crop stage max fert applied              |                  2263 |                       49.64 |\n",
    "+----+------------------------------------------+-----------------------+-----------------------------+\n",
    "| 11 | Crop sown last FW                        |                   175 |                        3.84 |\n",
    "+----+------------------------------------------+-----------------------+-----------------------------+\n",
    "| 13 | Tillage method last FW                   |                   175 |                        3.84 |\n",
    "+----+------------------------------------------+-----------------------+-----------------------------+\n",
    "| 10 | Crop sown last SS                        |                   100 |                        2.19 |\n",
    "+----+------------------------------------------+-----------------------+-----------------------------+\n",
    "| 12 | Tillage method last SS                   |                   100 |                        2.19 |\n",
    "+----+------------------------------------------+-----------------------+-----------------------------+\n",
    "|  6 | Variety                                  |                    59 |                        1.29 |\n",
    "+----+------------------------------------------+-----------------------+-----------------------------+\n",
    "|  9 | Seed treated?                            |                    57 |                        1.25 |\n",
    "+----+------------------------------------------+-----------------------+-----------------------------+\n",
    "|  1 | Region                                   |                     0 |                        0    |\n",
    "+----+------------------------------------------+-----------------------+-----------------------------+\n",
    "|  4 | Status                                   |                     0 |                        0    |\n",
    "+----+------------------------------------------+-----------------------+-----------------------------+\n",
    "|  0 | Country                                  |                     0 |                        0    |\n",
    "+----+------------------------------------------+-----------------------+-----------------------------+\n",
    "</pre>\n",
    "\n",
    "\n",
    "\n",
    "\n",
    "```{toctree}\n",
    ":hidden:\n",
    ":titlesonly:\n",
    "\n",
    "\n",
    "category_vars/Country\n",
    "category_vars/Region\n",
    "category_vars/Status\n",
    "category_vars/Variety\n",
    "category_vars/Seed treated\n",
    "category_vars/Crop sown last SS\n",
    "category_vars/Crop sown last FW\n",
    "category_vars/Tillage method last SS\n",
    "category_vars/Tillage method last FW\n",
    "category_vars/Crop stage max fert applied\n",
    "category_vars/Crop stage max fert applied after sowing\n",
    "category_vars/Crop stage max herbicide applied\n",
    "category_vars/Crop stage max fungicide applied\n",
    "category_vars/Crop stage max insecticide applied\n",
    "category_vars/Crop stage max growth regulators applied\n",
    "```"
   ]
  }
 ],
 "metadata": {
  "jupytext": {
   "text_representation": {
    "extension": ".md",
    "format_name": "myst"
   }
  },
  "kernelspec": {
   "display_name": "Python 3",
   "language": "python",
   "name": "python3"
  },
  "language_info": {
   "codemirror_mode": {
    "name": "ipython",
    "version": 3
   },
   "file_extension": ".py",
   "mimetype": "text/x-python",
   "name": "python",
   "nbconvert_exporter": "python",
   "pygments_lexer": "ipython3",
   "version": "3.8.5"
  },
  "source_map": [
   10
  ]
 },
 "nbformat": 4,
 "nbformat_minor": 4
}